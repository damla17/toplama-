{
 "cells": [
  {
   "cell_type": "code",
   "execution_count": 1,
   "id": "68cdebf9",
   "metadata": {},
   "outputs": [
    {
     "name": "stdout",
     "output_type": "stream",
     "text": [
      "birinci sayı:12\n",
      "ikinci sayı:24\n",
      "üçüncü sayı:54\n",
      "Toplamları: 90\n"
     ]
    }
   ],
   "source": [
    "a = int (input(\"birinci sayı:\"))\n",
    "b = int (input(\"ikinci sayı:\"))\n",
    "c = int (input(\"üçüncü sayı:\"))\n",
    "\n",
    "print(\"Toplamları:\",a+b+c)"
   ]
  },
  {
   "cell_type": "code",
   "execution_count": 2,
   "id": "d855a33a",
   "metadata": {},
   "outputs": [
    {
     "name": "stdout",
     "output_type": "stream",
     "text": [
      "ocak\tMart\tŞubat\n"
     ]
    }
   ],
   "source": [
    "print(\"ocak\\tMart\\tŞubat\")"
   ]
  },
  {
   "cell_type": "code",
   "execution_count": 3,
   "id": "69e9206f",
   "metadata": {},
   "outputs": [
    {
     "name": "stdout",
     "output_type": "stream",
     "text": [
      "<class 'int'>\n"
     ]
    }
   ],
   "source": [
    "# ınteger (tamsayı) türü\n",
    "a = 65\n",
    "print(type(a))"
   ]
  },
  {
   "cell_type": "code",
   "execution_count": 4,
   "id": "14b88a7c",
   "metadata": {},
   "outputs": [
    {
     "name": "stdout",
     "output_type": "stream",
     "text": [
      "<class 'float'>\n"
     ]
    }
   ],
   "source": [
    "# float (ondalıklı sayı) türü\n",
    "a = 5.87\n",
    "print(type(a))"
   ]
  },
  {
   "cell_type": "code",
   "execution_count": 5,
   "id": "996cc5a8",
   "metadata": {},
   "outputs": [
    {
     "name": "stdout",
     "output_type": "stream",
     "text": [
      "3.4.5.6.7.8.9\n"
     ]
    }
   ],
   "source": [
    "# sep sayesinde değerlerin arasına nokta konur.\n",
    "print(3,4,5,6,7,8,9,sep = \".\" )"
   ]
  },
  {
   "cell_type": "code",
   "execution_count": 6,
   "id": "e3d3cefc",
   "metadata": {},
   "outputs": [
    {
     "name": "stdout",
     "output_type": "stream",
     "text": [
      "06/04/2015\n"
     ]
    }
   ],
   "source": [
    "# Değerlerin arasında \"/\" sembolü yerleştiriliyor.\n",
    "print(\"06\",\"04\",\"2015\",sep = \"/\")"
   ]
  },
  {
   "cell_type": "code",
   "execution_count": 7,
   "id": "86b450ca",
   "metadata": {},
   "outputs": [
    {
     "name": "stdout",
     "output_type": "stream",
     "text": [
      "d a m l a\n"
     ]
    }
   ],
   "source": [
    "# yıldızlar karakterlerin arasına boşluk koyar\n",
    "print(*\"damla\")"
   ]
  },
  {
   "cell_type": "code",
   "execution_count": 9,
   "id": "9d5912df",
   "metadata": {},
   "outputs": [
    {
     "name": "stdout",
     "output_type": "stream",
     "text": [
      "d\n",
      "a\n",
      "m\n",
      "l\n",
      "a\n"
     ]
    }
   ],
   "source": [
    "print(*\"damla\",sep = \"\\n\")"
   ]
  },
  {
   "cell_type": "code",
   "execution_count": 10,
   "id": "4da53150",
   "metadata": {},
   "outputs": [
    {
     "name": "stdout",
     "output_type": "stream",
     "text": [
      "T.B.M.M\n"
     ]
    }
   ],
   "source": [
    "print(*\"TBMM\",sep =\".\")"
   ]
  },
  {
   "cell_type": "code",
   "execution_count": 12,
   "id": "12fd4799",
   "metadata": {},
   "outputs": [
    {
     "name": "stdout",
     "output_type": "stream",
     "text": [
      "damla\n",
      "atakan\n",
      "güvenbaş\n"
     ]
    }
   ],
   "source": [
    "print(\"damla\",\"atakan\",\"güvenbaş\",sep = \"\\n\")"
   ]
  },
  {
   "cell_type": "code",
   "execution_count": 13,
   "id": "2e2c97e0",
   "metadata": {},
   "outputs": [
    {
     "data": {
      "text/plain": [
       "43.0"
      ]
     },
     "execution_count": 13,
     "metadata": {},
     "output_type": "execute_result"
    }
   ],
   "source": [
    "# çevireceğimiz sayıyı parantez içine alıyoruz.\n",
    "a = 43\n",
    "float(a)"
   ]
  },
  {
   "cell_type": "code",
   "execution_count": 14,
   "id": "a5cd7bee",
   "metadata": {},
   "outputs": [
    {
     "data": {
      "text/plain": [
       "4"
      ]
     },
     "execution_count": 14,
     "metadata": {},
     "output_type": "execute_result"
    }
   ],
   "source": [
    "int(4.7)"
   ]
  },
  {
   "cell_type": "code",
   "execution_count": 15,
   "id": "7f86e531",
   "metadata": {},
   "outputs": [
    {
     "data": {
      "text/plain": [
       "10"
      ]
     },
     "execution_count": 15,
     "metadata": {},
     "output_type": "execute_result"
    }
   ],
   "source": [
    "int(10.567093)"
   ]
  },
  {
   "cell_type": "code",
   "execution_count": 16,
   "id": "37709620",
   "metadata": {},
   "outputs": [
    {
     "data": {
      "text/plain": [
       "'232474736'"
      ]
     },
     "execution_count": 16,
     "metadata": {},
     "output_type": "execute_result"
    }
   ],
   "source": [
    "a = 232474736\n",
    "b = str(a)\n",
    "b"
   ]
  },
  {
   "cell_type": "code",
   "execution_count": null,
   "id": "37e8a497",
   "metadata": {},
   "outputs": [],
   "source": [
    "t = 3.12375"
   ]
  }
 ],
 "metadata": {
  "kernelspec": {
   "display_name": "Python 3 (ipykernel)",
   "language": "python",
   "name": "python3"
  },
  "language_info": {
   "codemirror_mode": {
    "name": "ipython",
    "version": 3
   },
   "file_extension": ".py",
   "mimetype": "text/x-python",
   "name": "python",
   "nbconvert_exporter": "python",
   "pygments_lexer": "ipython3",
   "version": "3.9.13"
  }
 },
 "nbformat": 4,
 "nbformat_minor": 5
}
