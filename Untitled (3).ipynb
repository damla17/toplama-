{
 "cells": [
  {
   "cell_type": "code",
   "execution_count": 1,
   "id": "e7b89939",
   "metadata": {},
   "outputs": [
    {
     "name": "stdout",
     "output_type": "stream",
     "text": [
      "birinci sayı:12\n",
      "ikinci sayı:24\n",
      "üçüncü sayı:54\n",
      "Toplamları: 90\n"
     ]
    }
   ],
   "source": [
    "a = int (input(\"birinci sayı:\"))\n",
    "b = int (input(\"ikinci sayı:\"))\n",
    "c = int (input(\"üçüncü sayı:\"))\n",
    "\n",
    "print(\"Toplamları:\",a+b+c)"
   ]
  },
  {
   "cell_type": "code",
   "execution_count": null,
   "id": "00f46078",
   "metadata": {},
   "outputs": [],
   "source": [
    "print"
   ]
  }
 ],
 "metadata": {
  "kernelspec": {
   "display_name": "Python 3 (ipykernel)",
   "language": "python",
   "name": "python3"
  },
  "language_info": {
   "codemirror_mode": {
    "name": "ipython",
    "version": 3
   },
   "file_extension": ".py",
   "mimetype": "text/x-python",
   "name": "python",
   "nbconvert_exporter": "python",
   "pygments_lexer": "ipython3",
   "version": "3.9.13"
  }
 },
 "nbformat": 4,
 "nbformat_minor": 5
}
