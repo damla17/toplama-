{
  "metadata": {
    "language_info": {
      "codemirror_mode": {
        "name": "python",
        "version": 3
      },
      "file_extension": ".py",
      "mimetype": "text/x-python",
      "name": "python",
      "nbconvert_exporter": "python",
      "pygments_lexer": "ipython3",
      "version": "3.8"
    },
    "kernelspec": {
      "name": "python",
      "display_name": "Python (Pyodide)",
      "language": "python"
    }
  },
  "nbformat_minor": 4,
  "nbformat": 4,
  "cells": [
    {
      "cell_type": "markdown",
      "source": "# listeler",
      "metadata": {}
    },
    {
      "cell_type": "markdown",
      "source": "Bu bölümde yapacağımız işlemler şunlardır:\n    1. Liste oluşturma\n    2. İndexleme ve parçalama\n    3. Temel liste ve parçaları\n    4. İç içe listeler",
      "metadata": {}
    },
    {
      "cell_type": "markdown",
      "source": "## Liste Oluşturma",
      "metadata": {}
    },
    {
      "cell_type": "code",
      "source": "Meyveler = [\"elma\",\"erik\",\"armut\",\"dut\",\"incir\",\"kiraz\",\"çilek\"]",
      "metadata": {
        "trusted": true
      },
      "execution_count": 4,
      "outputs": []
    },
    {
      "cell_type": "code",
      "source": "Teksayılar = [1,3,5,7,9,11,13,15,17,19,21,23,25,27,29]",
      "metadata": {
        "trusted": true
      },
      "execution_count": 6,
      "outputs": []
    },
    {
      "cell_type": "code",
      "source": "# Len fonksiyonu listeler üzerinde de kullanılabilir.\nRenkler = [\"sarı\",\"kırmızı\",\"mor\",\"mavi\",\"yeşil\",\"beyaz\",\"siyah\"]\nlen(Renkler)",
      "metadata": {
        "trusted": true
      },
      "execution_count": 7,
      "outputs": [
        {
          "execution_count": 7,
          "output_type": "execute_result",
          "data": {
            "text/plain": "7"
          },
          "metadata": {}
        }
      ]
    },
    {
      "cell_type": "code",
      "source": "s = \"sayılar\"\nlst= list(s)\nlst",
      "metadata": {
        "trusted": true
      },
      "execution_count": 8,
      "outputs": [
        {
          "execution_count": 8,
          "output_type": "execute_result",
          "data": {
            "text/plain": "['s', 'a', 'y', 'ı', 'l', 'a', 'r']"
          },
          "metadata": {}
        }
      ]
    },
    {
      "cell_type": "code",
      "source": "liste5 = [3,4,8,11,15,19]\nliste5",
      "metadata": {
        "trusted": true
      },
      "execution_count": 9,
      "outputs": [
        {
          "execution_count": 9,
          "output_type": "execute_result",
          "data": {
            "text/plain": "[3, 4, 8, 11, 15, 19]"
          },
          "metadata": {}
        }
      ]
    },
    {
      "cell_type": "code",
      "source": "# 4. eleman\nliste[4]",
      "metadata": {
        "trusted": true
      },
      "execution_count": 12,
      "outputs": [
        {
          "execution_count": 12,
          "output_type": "execute_result",
          "data": {
            "text/plain": "15"
          },
          "metadata": {}
        }
      ]
    },
    {
      "cell_type": "code",
      "source": "# 1. indeksten 5. indekse kadar\nliste[1:5]",
      "metadata": {
        "trusted": true
      },
      "execution_count": 13,
      "outputs": [
        {
          "execution_count": 13,
          "output_type": "execute_result",
          "data": {
            "text/plain": "[4, 8, 11, 15]"
          },
          "metadata": {}
        }
      ]
    },
    {
      "cell_type": "code",
      "source": "liste[3:]",
      "metadata": {
        "trusted": true
      },
      "execution_count": 15,
      "outputs": [
        {
          "execution_count": 15,
          "output_type": "execute_result",
          "data": {
            "text/plain": "[11, 15, 19]"
          },
          "metadata": {}
        }
      ]
    },
    {
      "cell_type": "code",
      "source": "#ilk endeks\nliste[0]",
      "metadata": {
        "trusted": true
      },
      "execution_count": 24,
      "outputs": [
        {
          "execution_count": 24,
          "output_type": "execute_result",
          "data": {
            "text/plain": "3"
          },
          "metadata": {}
        }
      ]
    },
    {
      "cell_type": "code",
      "source": "# Baştan 4. indekse kadar\nliste[ :4]",
      "metadata": {
        "trusted": true
      },
      "execution_count": 22,
      "outputs": [
        {
          "execution_count": 22,
          "output_type": "execute_result",
          "data": {
            "text/plain": "[3, 4, 8, 11]"
          },
          "metadata": {}
        }
      ]
    },
    {
      "cell_type": "code",
      "source": "#sonuncu eleman\nliste[-1]",
      "metadata": {
        "trusted": true
      },
      "execution_count": 23,
      "outputs": [
        {
          "execution_count": 23,
          "output_type": "execute_result",
          "data": {
            "text/plain": "19"
          },
          "metadata": {}
        }
      ]
    },
    {
      "cell_type": "code",
      "source": "liste[len(liste)-1]",
      "metadata": {
        "trusted": true
      },
      "execution_count": 25,
      "outputs": [
        {
          "execution_count": 25,
          "output_type": "execute_result",
          "data": {
            "text/plain": "19"
          },
          "metadata": {}
        }
      ]
    },
    {
      "cell_type": "code",
      "source": "liste[ : :2]",
      "metadata": {
        "trusted": true
      },
      "execution_count": 27,
      "outputs": [
        {
          "execution_count": 27,
          "output_type": "execute_result",
          "data": {
            "text/plain": "[3, 8, 15]"
          },
          "metadata": {}
        }
      ]
    },
    {
      "cell_type": "code",
      "source": "liste[ 2:]",
      "metadata": {
        "trusted": true
      },
      "execution_count": 31,
      "outputs": [
        {
          "execution_count": 31,
          "output_type": "execute_result",
          "data": {
            "text/plain": "[8, 11, 15, 19]"
          },
          "metadata": {}
        }
      ]
    },
    {
      "cell_type": "code",
      "source": "liste= [1,2,3,4]\nliste = liste + [\"Murat\"]",
      "metadata": {
        "trusted": true
      },
      "execution_count": 34,
      "outputs": []
    },
    {
      "cell_type": "code",
      "source": "liste",
      "metadata": {
        "trusted": true
      },
      "execution_count": 35,
      "outputs": [
        {
          "execution_count": 35,
          "output_type": "execute_result",
          "data": {
            "text/plain": "[1, 2, 3, 4, 'Murat']"
          },
          "metadata": {}
        }
      ]
    },
    {
      "cell_type": "code",
      "source": "",
      "metadata": {},
      "execution_count": null,
      "outputs": []
    }
  ]
}