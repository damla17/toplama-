{
  "metadata": {
    "language_info": {
      "codemirror_mode": {
        "name": "python",
        "version": 3
      },
      "file_extension": ".py",
      "mimetype": "text/x-python",
      "name": "python",
      "nbconvert_exporter": "python",
      "pygments_lexer": "ipython3",
      "version": "3.8"
    },
    "kernelspec": {
      "name": "python",
      "display_name": "Python (Pyodide)",
      "language": "python"
    }
  },
  "nbformat_minor": 4,
  "nbformat": 4,
  "cells": [
    {
      "cell_type": "raw",
      "source": "# MERHABA PYTHON",
      "metadata": {}
    },
    {
      "cell_type": "markdown",
      "source": "# Python İle Matematiksel İşlemler",
      "metadata": {}
    },
    {
      "cell_type": "markdown",
      "source": "## 1.Toplama İŞlemi",
      "metadata": {}
    },
    {
      "cell_type": "markdown",
      "source": "Python matematiksel işlemleri çok hızlı bir şekilde yapabilen bir yazılım dilidir. Bu örnekten bir toplama işlemi yapacağız.",
      "metadata": {}
    },
    {
      "cell_type": "code",
      "source": "3+5",
      "metadata": {
        "trusted": true
      },
      "execution_count": 7,
      "outputs": [
        {
          "execution_count": 7,
          "output_type": "execute_result",
          "data": {
            "text/plain": "8"
          },
          "metadata": {}
        }
      ]
    },
    {
      "cell_type": "markdown",
      "source": "# 2.Çıkarma işlemi",
      "metadata": {}
    },
    {
      "cell_type": "raw",
      "source": "Çıkarma işlemi yapıyotuz",
      "metadata": {}
    },
    {
      "cell_type": "code",
      "source": "78-12",
      "metadata": {
        "trusted": true
      },
      "execution_count": 8,
      "outputs": [
        {
          "execution_count": 8,
          "output_type": "execute_result",
          "data": {
            "text/plain": "66"
          },
          "metadata": {}
        }
      ]
    },
    {
      "cell_type": "markdown",
      "source": "# 3.Çarma işlemi",
      "metadata": {}
    },
    {
      "cell_type": "code",
      "source": "67*9",
      "metadata": {
        "trusted": true
      },
      "execution_count": 9,
      "outputs": [
        {
          "execution_count": 9,
          "output_type": "execute_result",
          "data": {
            "text/plain": "603"
          },
          "metadata": {}
        }
      ]
    },
    {
      "cell_type": "markdown",
      "source": "# 4.Kalanlı Bölme",
      "metadata": {}
    },
    {
      "cell_type": "code",
      "source": "89/5",
      "metadata": {
        "trusted": true
      },
      "execution_count": 11,
      "outputs": [
        {
          "execution_count": 11,
          "output_type": "execute_result",
          "data": {
            "text/plain": "17.8"
          },
          "metadata": {}
        }
      ]
    },
    {
      "cell_type": "markdown",
      "source": "# 5.Bölme İşlemi",
      "metadata": {}
    },
    {
      "cell_type": "code",
      "source": "980/56",
      "metadata": {
        "trusted": true
      },
      "execution_count": 13,
      "outputs": [
        {
          "execution_count": 13,
          "output_type": "execute_result",
          "data": {
            "text/plain": "17.5"
          },
          "metadata": {}
        }
      ]
    },
    {
      "cell_type": "code",
      "source": "",
      "metadata": {},
      "execution_count": null,
      "outputs": []
    }
  ]
}