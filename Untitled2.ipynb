{
 "cells": [
  {
   "cell_type": "code",
   "execution_count": 1,
   "id": "80482799",
   "metadata": {},
   "outputs": [
    {
     "data": {
      "text/plain": [
       "'a'"
      ]
     },
     "execution_count": 1,
     "metadata": {},
     "output_type": "execute_result"
    }
   ],
   "source": [
    "# 0. elemana ulaşalım .\n",
    "a = \"ali\"\n",
    "a[0]"
   ]
  },
  {
   "cell_type": "code",
   "execution_count": 2,
   "id": "50f9b89f",
   "metadata": {},
   "outputs": [
    {
     "data": {
      "text/plain": [
       "'l'"
      ]
     },
     "execution_count": 2,
     "metadata": {},
     "output_type": "execute_result"
    }
   ],
   "source": [
    "b = \"damla\"\n",
    "b[3]"
   ]
  },
  {
   "cell_type": "code",
   "execution_count": 4,
   "id": "7e8187f4",
   "metadata": {},
   "outputs": [
    {
     "data": {
      "text/plain": [
       "'k'"
      ]
     },
     "execution_count": 4,
     "metadata": {},
     "output_type": "execute_result"
    }
   ],
   "source": [
    "b = \"çanakkale\"\n",
    "b[5]"
   ]
  },
  {
   "cell_type": "code",
   "execution_count": 7,
   "id": "b590f81f",
   "metadata": {},
   "outputs": [],
   "source": [
    "a = \"kırklaeli\""
   ]
  },
  {
   "cell_type": "code",
   "execution_count": 8,
   "id": "5d97d23a",
   "metadata": {},
   "outputs": [
    {
     "data": {
      "text/plain": [
       "'kla'"
      ]
     },
     "execution_count": 8,
     "metadata": {},
     "output_type": "execute_result"
    }
   ],
   "source": [
    "# 3. indekten 6. indekse kadar al\n",
    "a[3:6]"
   ]
  },
  {
   "cell_type": "code",
   "execution_count": 12,
   "id": "9962b671",
   "metadata": {},
   "outputs": [],
   "source": [
    "a = \"sosyalleştiremediklerimizden misiniz?\""
   ]
  },
  {
   "cell_type": "code",
   "execution_count": 13,
   "id": "f29ae386",
   "metadata": {},
   "outputs": [
    {
     "data": {
      "text/plain": [
       "'leştiremedikle'"
      ]
     },
     "execution_count": 13,
     "metadata": {},
     "output_type": "execute_result"
    }
   ],
   "source": [
    "a[6:20]"
   ]
  },
  {
   "cell_type": "code",
   "execution_count": 15,
   "id": "3789182b",
   "metadata": {},
   "outputs": [
    {
     "data": {
      "text/plain": [
       "'imizden misini'"
      ]
     },
     "execution_count": 15,
     "metadata": {},
     "output_type": "execute_result"
    }
   ],
   "source": [
    "a[21:35]"
   ]
  },
  {
   "cell_type": "code",
   "execution_count": 16,
   "id": "ba229351",
   "metadata": {},
   "outputs": [
    {
     "data": {
      "text/plain": [
       "'sosyalleştiremediklerim'"
      ]
     },
     "execution_count": 16,
     "metadata": {},
     "output_type": "execute_result"
    }
   ],
   "source": [
    "# başlangıç değeri belirtmemişse en baştan başlayarak\n",
    "a[:23]"
   ]
  },
  {
   "cell_type": "code",
   "execution_count": 18,
   "id": "701377ba",
   "metadata": {},
   "outputs": [
    {
     "data": {
      "text/plain": [
       "'çanakk'"
      ]
     },
     "execution_count": 18,
     "metadata": {},
     "output_type": "execute_result"
    }
   ],
   "source": [
    "b[:6]"
   ]
  },
  {
   "cell_type": "code",
   "execution_count": null,
   "id": "cf5df73d",
   "metadata": {},
   "outputs": [],
   "source": []
  }
 ],
 "metadata": {
  "kernelspec": {
   "display_name": "Python 3 (ipykernel)",
   "language": "python",
   "name": "python3"
  },
  "language_info": {
   "codemirror_mode": {
    "name": "ipython",
    "version": 3
   },
   "file_extension": ".py",
   "mimetype": "text/x-python",
   "name": "python",
   "nbconvert_exporter": "python",
   "pygments_lexer": "ipython3",
   "version": "3.9.13"
  }
 },
 "nbformat": 4,
 "nbformat_minor": 5
}
